{
 "cells": [
  {
   "cell_type": "markdown",
   "metadata": {},
   "source": [
    "# Spectrum preprocessing and data exploration #  \n",
    "\n",
    "All spectral data (both training and test data) needs to be preprocessed before feeding it into a model. This notebook guides through the preprocessing procedure, involving the following steps: \n",
    "1. Rebinning: Match all energy calibrations \n",
    "2. Concatenate all files of the same isotope and detector to one dataset\n",
    "3. Concatenate all files from the same isotope, different detectors to one dataset\n",
    "4. Limit the number of spectra\n",
    "\n",
    "In addition, this notebook provides several data exploration plots that help to understand the general data trends: \n",
    "- Visualization of the mean spectra for all isotopes (detectors seperate)\n",
    "- Visualization of original spectra for all isotopes\n",
    "- Visualization of the cosine similarity between all isotopes and detectors (triangular matrix)\n",
    "\n",
    "The python library used for preprocessing is `tools_preprocessing.py`. All functions called in this notebook and some predefined variables can be found there. "
   ]
  },
  {
   "cell_type": "code",
   "execution_count": null,
   "metadata": {},
   "outputs": [],
   "source": [
    "from tools.tools_preprocessing import *\n",
    "from tools.plotting import *"
   ]
  },
  {
   "cell_type": "markdown",
   "metadata": {},
   "source": [
    "#### Detector names #### \n",
    "As this package specializes on one-dimensional spectral data from multiple detectors, you can set detector names.  \n",
    "You can choose multiple detectors for measurements of spectra as well as one detector for simulated spectra.  \n",
    "In this example, we have two detectors 'right' and 'left' as well as one simulated detector. "
   ]
  },
  {
   "cell_type": "code",
   "execution_count": null,
   "metadata": {},
   "outputs": [],
   "source": [
    "dets_measured = ['left', 'right']\n",
    "det_simulated = 'simulated'\n",
    "GlobalVariables.dets_measured = dets_measured\n",
    "GlobalVariables.det_simulated = det_simulated\n",
    "\n",
    "all_detectors = dets_measured + [det_simulated]\n",
    "GlobalVariables.all_detectors = all_detectors"
   ]
  },
  {
   "cell_type": "markdown",
   "metadata": {},
   "source": [
    "## Obtain Data ## \n",
    "\n",
    "To demonstrate the function of this tool, we provide some example data in `example_data.zip`.  \n",
    "It contains measured and simulated spectra of the isotopes Am241, Co60, Cs137 and Eu152 as well as measured background and multi-label spectra (containing more than one isotope).  \n",
    "Unzip those data either manually or by running `install.sh` as described in `README`.  \n",
    "The spectra will be stored in `data/numpy_raw`. \n",
    "\n",
    "If you want to use your own measured or simulated data, please save them in the respective folders.  \n",
    "\n",
    "#### Data Format \n",
    "\n",
    "In our example dataset, spectral data are present in the folder `dir_numpy_raw` as list of dictionaries (format: .npy).  \n",
    "Each dictionary includes the spectrum, labels, energy calibration, detector name and information on absorbers.  \n",
    "Here is an example dictionary:  \n",
    "\n",
    "{'spectrum': [0, 0, 1, 2, ...],   \n",
    "'labels': ['Co60', 'background'],   \n",
    "'calibration': {'offset': -10., 'slope': 8., 'quad': 0.001},  \n",
    "'detector': 'left'}\n",
    "\n",
    "Hence, you can access properties of a list element by: \n",
    "- loading the list of spectral data: `spectra_list = np.load(PATH, allow_pickle=True)`\n",
    "- picking an element from the list, e.g. the first element: `first_element = spectra_list[0]`\n",
    "- extracting a property, e.g. the spectrum: `first_spectrum = first_element['spectrum']`"
   ]
  },
  {
   "cell_type": "markdown",
   "metadata": {},
   "source": [
    "#### Folder structure ####  \n",
    "\n",
    "Next, the correct folder structure for input and output files (as depicted in README) has to be ensured. Relative paths are used. \n",
    "\n",
    "In addition, you need to manually write a text file `00_list_of_isotopes.txt` in the folder `data` to control \n",
    "- which files are included in preprocessing\n",
    "- by which key different files of one isotope should be mapped together. \n",
    "\n",
    "**Example**: e.g. the filenames `240805_Am241_outside_right.npy` and `Am241_00morning_left.npy` will be concatenated into one file later on,  \n",
    "and we need to specify the key `Am241` in `00_list_of_isotopes.txt`. This also works for isotopes containing special characters, e.g. Ra226+."
   ]
  },
  {
   "cell_type": "code",
   "execution_count": null,
   "metadata": {},
   "outputs": [],
   "source": [
    "check_folder_structure()"
   ]
  },
  {
   "cell_type": "markdown",
   "metadata": {},
   "source": [
    "#### Retrieve filenames and isotopes ####  \n",
    "  \n",
    "Next, a list of measured and simulated spectral data files found in the directory `dir_numpy_raw` is created.  \n",
    "If multiple detectors were used for measurements, one entry per detector is created, as indicated by the suffix (e.g. 'Co60_1_left', 'Co60_1_right'). \n",
    "\n",
    "In addition, the isotope names are read from `00_list_of_isotopes.txt` in the directory `data`. "
   ]
  },
  {
   "cell_type": "code",
   "execution_count": null,
   "metadata": {},
   "outputs": [],
   "source": [
    "all_files_list = sorted([x for x in listdir(dir_numpy_raw) if '.npy' in x])\n",
    "isotope_list = read_isotope_list()\n",
    "GlobalVariables.all_isotopes = isotope_list"
   ]
  },
  {
   "cell_type": "markdown",
   "metadata": {},
   "source": [
    "#### Clearing directories from old preprocessed data ####  \n",
    "\n",
    "To avoid confusion between previously processed data, the directories specified in `paths_to_delete` are cleared before starting the preprocessing. "
   ]
  },
  {
   "cell_type": "code",
   "execution_count": null,
   "metadata": {},
   "outputs": [],
   "source": [
    "paths_to_delete = [dir_numpy_ready] \n",
    "clear_preprocessed_data(paths_to_delete)"
   ]
  },
  {
   "cell_type": "markdown",
   "metadata": {},
   "source": [
    "## Preprocessing\n",
    "\n",
    "#### 1. Rebinning of all spectra to standard calibration ####\n",
    "\n",
    "The energy calibration of each spectrum is defined by the parameters `offset`, `slope` and `quad`, which establish the energy at each channel i: \n",
    "```bash\n",
    "energies = offset + slope * i + quad * i**2 \n",
    "```\n",
    "To unify spectral data with varying energy calibrations, each spectrum is rebinned to a standard energy calibration `std_calib`.  \n",
    "You can specify the standard calibration in a dictionary, as shown below. \n",
    "Mathematically, the rebinning process interpolates each original spectrum from its specific energy calibration to the standard calibration.  \n",
    "Using linear interpolation, each spectrum’s intensity values are recalculated to align with the channels in the standard energy calibration.  \n",
    "Undefined values are filled with a small baseline to prevent negative intensities.\n",
    " \n",
    "Optionally, you can plot an original and rebinned example spectrum for each element in `all_files_list` by setting `show_plot=True`.\n"
   ]
  },
  {
   "cell_type": "code",
   "execution_count": null,
   "metadata": {},
   "outputs": [],
   "source": [
    "std_calib = {'offset': -12., 'slope': 8.15, 'quad': 0.0012}\n",
    "GlobalVariables.std_calib = std_calib\n",
    "\n",
    "datalist_rebinned = rebinning(all_files_list, std_calib, show_plot=False)"
   ]
  },
  {
   "cell_type": "markdown",
   "metadata": {},
   "source": [
    "#### 2. Combine all datasets of the same isotope and detector in one ####\n",
    "\n",
    "As multiple datasets from an isotope and detector may exist, they are combined in this step.  \n",
    "To find out which datasets are combined together, filenames are screened for the isotopes defined in the text file `00_list_of_isotopes.txt`.\n",
    "\n",
    "**Example**: 'Co60_1_right' and 'Co60_2_right' are concatenated to 'Co60_right' if `00_list_of_isotopes.txt` contains 'Co60', so only one dataset per isotope and detector remains. "
   ]
  },
  {
   "cell_type": "code",
   "execution_count": null,
   "metadata": {},
   "outputs": [],
   "source": [
    "datalist_concat1 = concatenate_isotope_datasets(datalist_rebinned)"
   ]
  },
  {
   "cell_type": "markdown",
   "metadata": {},
   "source": [
    "#### 3. Combine all datasets of the of same isotopes, different detector in one ####\n",
    "\n",
    "In the next step, the datasets of different detectors (but same isotope) are concatenated.  \n",
    "\n",
    "**Example**: 'Co60_right' and 'Co60_left' are concatenated to 'Co60', so only one dataset per isotope remains. "
   ]
  },
  {
   "cell_type": "code",
   "execution_count": null,
   "metadata": {},
   "outputs": [],
   "source": [
    "datalist_concat2 = concatenate_detector_datasets(datalist_concat1)"
   ]
  },
  {
   "cell_type": "markdown",
   "metadata": {},
   "source": [
    "#### 4. Limit number of spectra ####\n",
    "At last, the number of spectra per isotope is limited to a number `n_max`.  \n",
    "You should choose `n_max` > 100 to ensure a reasonable size of the test data later on.  \n",
    "For `n_max=None` no limit will be set and all data will be used.\n",
    "\n",
    "The datasets are saved as .npy files in `dir_numpy_ready`. "
   ]
  },
  {
   "cell_type": "code",
   "execution_count": null,
   "metadata": {},
   "outputs": [],
   "source": [
    "limit_spectra_per_isotope(datalist_concat2, n_max=None)  # e.g. n_max=10000"
   ]
  },
  {
   "cell_type": "markdown",
   "metadata": {},
   "source": [
    "## Data exploration ##\n",
    "\n",
    "In the following, the preprocessed data are visualized in different plots.  \n",
    "This also helps to check if the preprocessing was successful, i.e., if the results appear consistent.\n",
    "\n",
    "#### Comparison: Mean spectra from different detectors ####  \n",
    "\n",
    "First, let's take a look at the mean spectra. The mean spectra of each isotope are plotted in individual plots, color-coded by the different detectors.  \n",
    "Choose `zoom_in=True` to take a closer look at the lower part of the spectrum and set `save_plots=True` if you want to save the plots.\n",
    "\n",
    "On the left, the original mean spectra are shown whereas on the right, background is subtracted from measured data and all means are normalized.  \n",
    "Preferably, the (pure) measured background spectra found in the respective file (e.g. in `Am241.npy`) are used for background subtraction.  \n",
    "If none are found, the mean background spectrum is calculated from the separate file `background.npy`.  \n",
    "\n",
    "In addition, the cosine similarity (ranging from -1 to 1) between the different detectors is calculated to compare them quantitatively.  \n",
    "They should be close to 1 to allow for model inference between different detectors. "
   ]
  },
  {
   "cell_type": "code",
   "execution_count": null,
   "metadata": {},
   "outputs": [],
   "source": [
    "plot_mean_spectra_by_isotope_and_detector(isotope_list, zoom_in=False, save_plots=False)"
   ]
  },
  {
   "cell_type": "markdown",
   "metadata": {},
   "source": [
    "#### Example spectra for all isotopes    \n",
    "\n",
    "Below, example spectra of the preprocessed data are shown for all isotopes in colorful plots.  \n",
    "You can choose how many spectra are to be shown and whether you want to save the plot. "
   ]
  },
  {
   "cell_type": "code",
   "execution_count": null,
   "metadata": {},
   "outputs": [],
   "source": [
    "plot_example_spectra_by_isotopes(isotope_list, n_spectra=80, save_plot=False) "
   ]
  },
  {
   "cell_type": "markdown",
   "metadata": {},
   "source": [
    "#### Correlation between spectra of different isotopes and detectors: Cosine similarity matrix ####  \n",
    "\n",
    "One-dimensional spectra can be interpreted as vectors and their similarity can be quantified by the cosine similarity.  \n",
    "A cosine similarity of 1 means very similar spectra (modulo a scalar) and 0 means orthogonal, i.e., very different.\n",
    "\n",
    "While it is favourable to have high cosine similarities (close to 1) between spectra of the same isotope,  \n",
    "spectra from different isotopes should not be too similar, thus have low cosine similarities close to 0.  \n",
    "This will help the model to distinguish different isotopes and avoid confusion. \n",
    "\n",
    "Below, the cosine similarity between all isotopes and detectors is calculated.  \n",
    "It serves as a first assessment if the data are suited for this model.  \n",
    "Critical values that are too low/high are rimmed and you can set `threshold` manually to a value between 0 and 1:  \n",
    "- Orange-rimmed: means of the same isotope that are not similar enough (cos_sim < threshold)  \n",
    "- Red-rimmed: means of different isotopes that are too similar (cos_sim >= threshold)   \n",
    "\n",
    "For the example dataset, `threshold=0.8` has proven to be a reasonable and helpful estimate. "
   ]
  },
  {
   "cell_type": "code",
   "execution_count": null,
   "metadata": {},
   "outputs": [],
   "source": [
    "cossim_mat, names = calc_cos_sim_matrix_means(isotope_list)\n",
    "plot_cos_sim_matrix_means(cossim_mat, names, threshold=0.8)"
   ]
  }
 ],
 "metadata": {
  "kernelspec": {
   "display_name": ".venv",
   "language": "python",
   "name": "python3"
  },
  "language_info": {
   "codemirror_mode": {
    "name": "ipython",
    "version": 3
   },
   "file_extension": ".py",
   "mimetype": "text/x-python",
   "name": "python",
   "nbconvert_exporter": "python",
   "pygments_lexer": "ipython3",
   "version": "3.10.12"
  }
 },
 "nbformat": 4,
 "nbformat_minor": 2
}
